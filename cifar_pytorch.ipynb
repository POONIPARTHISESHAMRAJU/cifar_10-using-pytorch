{
 "cells": [
  {
   "cell_type": "code",
   "execution_count": null,
   "metadata": {},
   "outputs": [
    {
     "name": "stdout",
     "output_type": "stream",
     "text": [
      "Collecting torchvision\n",
      "\u001b[?25l  Downloading https://files.pythonhosted.org/packages/93/8a/82062a33b5eb7f696bf23f8ccf04bf6fc81d1a4972740fb21c2569ada0a6/torchvision-0.9.1-cp37-cp37m-manylinux1_x86_64.whl (17.4MB)\n",
      "\u001b[K     |████████████████████████████████| 17.4MB 8.2MB/s eta 0:00:01    |▋                               | 348kB 1.3MB/s eta 0:00:14     |███████████████████             | 10.3MB 8.6MB/s eta 0:00:01     |████████████████████▌           | 11.2MB 8.6MB/s eta 0:00:01     |█████████████████████████       | 13.6MB 8.6MB/s eta 0:00:01     |███████████████████████████████▉| 17.3MB 8.2MB/s eta 0:00:01\n",
      "\u001b[?25hRequirement already satisfied: pillow>=4.1.1 in /home/seshu/Seshu/lib/python3.7/site-packages (from torchvision) (6.1.0)\n",
      "Collecting torch==1.8.1 (from torchvision)\n",
      "\u001b[?25l  Downloading https://files.pythonhosted.org/packages/56/74/6fc9dee50f7c93d6b7d9644554bdc9692f3023fa5d1de779666e6bf8ae76/torch-1.8.1-cp37-cp37m-manylinux1_x86_64.whl (804.1MB)\n",
      "\u001b[K     |███████████████████████████▏    | 682.6MB 7.2MB/s eta 0:00:176  |▎                               | 7.7MB 9.8MB/s eta 0:01:22     |▍                               | 9.1MB 9.8MB/s eta 0:01:22     |▍                               | 10.7MB 7.1MB/s eta 0:01:53     |▌                               | 13.9MB 7.1MB/s eta 0:01:52     |▋                               | 14.7MB 7.1MB/s eta 0:01:52     |▊                               | 18.2MB 5.9MB/s eta 0:02:14     |▉                               | 20.0MB 5.9MB/s eta 0:02:14     |█                               | 22.8MB 5.9MB/s eta 0:02:14     |█                               | 23.2MB 5.9MB/s eta 0:02:14     |█                               | 24.2MB 5.9MB/s eta 0:02:13     |█                               | 26.1MB 7.5MB/s eta 0:01:44     |█                               | 27.7MB 7.5MB/s eta 0:01:43     |█▏                              | 28.1MB 7.5MB/s eta 0:01:43     |█▏                              | 30.5MB 7.5MB/s eta 0:01:43     |█▎                              | 31.5MB 7.5MB/s eta 0:01:43     |█▎                              | 32.4MB 7.5MB/s eta 0:01:43     |█▌                              | 37.2MB 3.7MB/s eta 0:03:29     |█▋                              | 40.6MB 7.3MB/s eta 0:01:45     |█▋                              | 40.9MB 7.3MB/s eta 0:01:45     |██                              | 50.7MB 908kB/s eta 0:13:49     |██▋                             | 65.3MB 1.7MB/s eta 0:07:11     |███▍                            | 84.4MB 2.2MB/s eta 0:05:28     |███▍                            | 84.5MB 2.2MB/s eta 0:05:28     |███▊                            | 93.6MB 1.6MB/s eta 0:07:19     |████                            | 103.2MB 2.9MB/s eta 0:03:59     |████▌                           | 112.6MB 2.6MB/s eta 0:04:23     |████▉                           | 121.6MB 2.3MB/s eta 0:05:02     |█████                           | 127.2MB 884kB/s eta 0:12:46     |█████▉                          | 147.4MB 816kB/s eta 0:13:25     |██████▊                         | 168.7MB 1.6MB/s eta 0:06:38     |███████▌                        | 188.1MB 3.2MB/s eta 0:03:11     |████████                        | 200.0MB 5.0MB/s eta 0:02:02     |████████▎                       | 208.9MB 2.3MB/s eta 0:04:23     |████████▊                       | 219.3MB 3.8MB/s eta 0:02:34     |█████████▌                      | 237.4MB 2.8MB/s eta 0:03:26     |█████████▉                      | 246.2MB 2.4MB/s eta 0:03:57     |█████████▉                      | 248.4MB 2.1MB/s eta 0:04:20     |███████████▏                    | 279.5MB 592kB/s eta 0:14:46     |███████████▌                    | 288.6MB 2.0MB/s eta 0:04:22     |███████████▋                    | 292.5MB 2.2MB/s eta 0:03:50     |████████████                    | 300.3MB 1.4MB/s eta 0:05:49     |████████████▏                   | 305.1MB 1.3MB/s eta 0:06:28     |████████████▎                   | 308.6MB 1.6MB/s eta 0:05:14     |█████████████                   | 329.2MB 3.7MB/s eta 0:02:10     |██████████████▎                 | 359.8MB 4.3MB/s eta 0:01:43     |███████████████▏                | 382.1MB 5.6MB/s eta 0:01:16     |███████████████▌                | 389.8MB 3.0MB/s eta 0:02:21     |█████████████████▌              | 439.1MB 1.9MB/s eta 0:03:11     |█████████████████▊              | 446.1MB 1.2MB/s eta 0:04:55     |██████████████████              | 450.7MB 2.0MB/s eta 0:02:57     |██████████████████▌             | 464.0MB 5.5MB/s eta 0:01:03     |██████████████████▌             | 465.3MB 5.5MB/s eta 0:01:02     |██████████████████▌             | 466.2MB 5.5MB/s eta 0:01:02     |██████████████████▋             | 466.6MB 5.5MB/s eta 0:01:02     |██████████████████▋             | 469.0MB 6.6MB/s eta 0:00:51     |███████████████████▍            | 487.2MB 28.7MB/s eta 0:00:12     |███████████████████▉            | 499.2MB 20.2MB/s eta 0:00:16     |████████████████████▍           | 511.1MB 12.3MB/s eta 0:00:24     |█████████████████████           | 530.3MB 12.3MB/s eta 0:00:23     |█████████████████████▌          | 539.3MB 10.8MB/s eta 0:00:25     |██████████████████████▊         | 571.1MB 13.0MB/s eta 0:00:18     |███████████████████████         | 577.5MB 23.7MB/s eta 0:00:10     |███████████████████████         | 577.8MB 23.7MB/s eta 0:00:10     |███████████████████████▏        | 582.6MB 23.7MB/s eta 0:00:10     |███████████████████████▏        | 583.1MB 23.7MB/s eta 0:00:10     |███████████████████████▎        | 584.9MB 21.5MB/s eta 0:00:11     |███████████████████████▍        | 588.8MB 21.5MB/s eta 0:00:11     |███████████████████████▋        | 594.4MB 19.6MB/s eta 0:00:11     |███████████████████████▊        | 595.4MB 19.6MB/s eta 0:00:11     |███████████████████████▉        | 599.0MB 19.6MB/s eta 0:00:11     |█████████████████████████       | 630.7MB 10.1MB/s eta 0:00:18     |█████████████████████████▏      | 631.3MB 10.1MB/s eta 0:00:18     |█████████████████████████▏      | 631.8MB 10.1MB/s eta 0:00:18     |█████████████████████████▎      | 634.9MB 10.1MB/s eta 0:00:17     |█████████████████████████▌      | 640.9MB 10.1MB/s eta 0:00:17     |█████████████████████████▋      | 644.6MB 9.6MB/s eta 0:00:17"
     ]
    }
   ],
   "source": [
    "\n",
    "pip install torchvision"
   ]
  },
  {
   "cell_type": "code",
   "execution_count": 2,
   "metadata": {
    "id": "n2Td3h73s60N"
   },
   "outputs": [
    {
     "ename": "ModuleNotFoundError",
     "evalue": "No module named 'torchvision'",
     "output_type": "error",
     "traceback": [
      "\u001b[0;31m---------------------------------------------------------------------------\u001b[0m",
      "\u001b[0;31mModuleNotFoundError\u001b[0m                       Traceback (most recent call last)",
      "\u001b[0;32m<ipython-input-2-fd6f92bdfd96>\u001b[0m in \u001b[0;36m<module>\u001b[0;34m\u001b[0m\n\u001b[1;32m      1\u001b[0m \u001b[0;32mimport\u001b[0m \u001b[0mtorch\u001b[0m\u001b[0;34m\u001b[0m\u001b[0;34m\u001b[0m\u001b[0m\n\u001b[0;32m----> 2\u001b[0;31m \u001b[0;32mimport\u001b[0m \u001b[0mtorchvision\u001b[0m\u001b[0;34m\u001b[0m\u001b[0;34m\u001b[0m\u001b[0m\n\u001b[0m\u001b[1;32m      3\u001b[0m \u001b[0;32mimport\u001b[0m \u001b[0mtorchvision\u001b[0m\u001b[0;34m.\u001b[0m\u001b[0mtransforms\u001b[0m \u001b[0;32mas\u001b[0m \u001b[0mtransforms\u001b[0m\u001b[0;34m\u001b[0m\u001b[0;34m\u001b[0m\u001b[0m\n",
      "\u001b[0;31mModuleNotFoundError\u001b[0m: No module named 'torchvision'"
     ]
    }
   ],
   "source": [
    "import torch\n",
    "import torchvision\n",
    "import torchvision.transforms as transforms"
   ]
  },
  {
   "cell_type": "code",
   "execution_count": null,
   "metadata": {},
   "outputs": [],
   "source": []
  },
  {
   "cell_type": "code",
   "execution_count": 2,
   "metadata": {
    "colab": {
     "base_uri": "https://localhost:8080/",
     "height": 118,
     "referenced_widgets": [
      "24bdedf4101e4478972e5f4467044ad1",
      "4ab9c5161e7a46c8bb62f119b560ed78",
      "c6abc21c3f9b4ecb8ecaa20b0cd76b68",
      "205e8792b9e6471ab4bd4fb2b8501913",
      "d444ea765a824912a609cfb0eb566022",
      "9b1f9b76704a402ea96be468a7f97064",
      "98f9cdbc1d5b4037a5bd057743d32624",
      "8d47258cf4ff4380a47025578d0dfd7b"
     ]
    },
    "id": "q0yu2CwotDZ3",
    "outputId": "fa3c7ae7-b95e-4dc3-aec9-39f52cac2557"
   },
   "outputs": [
    {
     "name": "stdout",
     "output_type": "stream",
     "text": [
      "Downloading https://www.cs.toronto.edu/~kriz/cifar-10-python.tar.gz to ./data/cifar-10-python.tar.gz\n"
     ]
    },
    {
     "data": {
      "application/vnd.jupyter.widget-view+json": {
       "model_id": "24bdedf4101e4478972e5f4467044ad1",
       "version_major": 2,
       "version_minor": 0
      },
      "text/plain": [
       "HBox(children=(FloatProgress(value=0.0, max=170498071.0), HTML(value='')))"
      ]
     },
     "metadata": {
      "tags": []
     },
     "output_type": "display_data"
    },
    {
     "name": "stdout",
     "output_type": "stream",
     "text": [
      "\n",
      "Extracting ./data/cifar-10-python.tar.gz to ./data\n",
      "Files already downloaded and verified\n"
     ]
    }
   ],
   "source": [
    "transform = transforms.Compose(\n",
    "    [transforms.ToTensor(),\n",
    "     transforms.Normalize((0.5, 0.5, 0.5), (0.5, 0.5, 0.5))])\n",
    "\n",
    "batch_size = 4\n",
    "\n",
    "trainset = torchvision.datasets.CIFAR10(root='./data', train=True,\n",
    "                                        download=True, transform=transform)\n",
    "trainloader = torch.utils.data.DataLoader(trainset, batch_size=batch_size,\n",
    "                                          shuffle=True, num_workers=2)\n",
    "\n",
    "testset = torchvision.datasets.CIFAR10(root='./data', train=False,\n",
    "                                       download=True, transform=transform)\n",
    "testloader = torch.utils.data.DataLoader(testset, batch_size=batch_size,\n",
    "                                         shuffle=False, num_workers=2)\n",
    "\n",
    "classes = ('plane', 'car', 'bird', 'cat',\n",
    "           'deer', 'dog', 'frog', 'horse', 'ship', 'truck')"
   ]
  },
  {
   "cell_type": "code",
   "execution_count": 3,
   "metadata": {
    "colab": {
     "base_uri": "https://localhost:8080/",
     "height": 155
    },
    "id": "YRoZIov3tQJj",
    "outputId": "047c4023-bdfa-4810-c89f-7df054c35676"
   },
   "outputs": [
    {
     "data": {
      "image/png": "[encoded data removed]",
      "text/plain": [
       "<Figure size 432x288 with 1 Axes>"
      ]
     },
     "metadata": {
      "needs_background": "light",
      "tags": []
     },
     "output_type": "display_data"
    },
    {
     "name": "stdout",
     "output_type": "stream",
     "text": [
      " frog truck   dog  deer\n"
     ]
    }
   ],
   "source": [
    "import matplotlib.pyplot as plt\n",
    "import numpy as np\n",
    "\n",
    "# functions to show an image\n",
    "\n",
    "\n",
    "def imshow(img):\n",
    "    img = img / 2 + 0.5     # unnormalize\n",
    "    npimg = img.numpy()\n",
    "    plt.imshow(np.transpose(npimg, (1, 2, 0)))\n",
    "    plt.show()\n",
    "\n",
    "\n",
    "# get some random training images\n",
    "dataiter = iter(trainloader)\n",
    "images, labels = dataiter.next()\n",
    "\n",
    "# show images\n",
    "imshow(torchvision.utils.make_grid(images))\n",
    "# print labels\n",
    "print(' '.join('%5s' % classes[labels[j]] for j in range(batch_size)))"
   ]
  },
  {
   "cell_type": "code",
   "execution_count": 4,
   "metadata": {
    "id": "OX9XC3B2tVJB"
   },
   "outputs": [],
   "source": [
    "import torch.nn as nn\n",
    "import torch.nn.functional as F\n",
    "\n",
    "\n",
    "class Net(nn.Module):\n",
    "    def __init__(self):\n",
    "        super(Net, self).__init__()\n",
    "        self.conv1 = nn.Conv2d(3, 6, 5)\n",
    "        self.pool = nn.MaxPool2d(2, 2)\n",
    "        self.conv2 = nn.Conv2d(6, 16, 5)\n",
    "        self.fc1 = nn.Linear(16 * 5 * 5, 120)\n",
    "        self.fc2 = nn.Linear(120, 84)\n",
    "        self.fc3 = nn.Linear(84, 10)\n",
    "\n",
    "    def forward(self, x):\n",
    "        x = self.pool(F.relu(self.conv1(x)))\n",
    "        x = self.pool(F.relu(self.conv2(x)))\n",
    "        x = x.view(-1, 16 * 5 * 5)\n",
    "        x = F.relu(self.fc1(x))\n",
    "        x = F.relu(self.fc2(x))\n",
    "        x = self.fc3(x)\n",
    "        return x\n",
    "\n",
    "\n",
    "net = Net()"
   ]
  },
  {
   "cell_type": "code",
   "execution_count": 5,
   "metadata": {
    "id": "A4tiq_lFtcbI"
   },
   "outputs": [],
   "source": [
    "import torch.optim as optim\n",
    "\n",
    "criterion = nn.CrossEntropyLoss()\n",
    "optimizer = optim.SGD(net.parameters(), lr=0.001, momentum=0.9)"
   ]
  },
  {
   "cell_type": "code",
   "execution_count": 6,
   "metadata": {
    "colab": {
     "base_uri": "https://localhost:8080/"
    },
    "id": "qIGwBJK9tgSE",
    "outputId": "ef4be2ff-80b7-4ce3-c640-26e814506961"
   },
   "outputs": [
    {
     "name": "stdout",
     "output_type": "stream",
     "text": [
      "[1,  2000] loss: 2.175\n",
      "[1,  4000] loss: 1.841\n",
      "[1,  6000] loss: 1.676\n",
      "[1,  8000] loss: 1.596\n",
      "[1, 10000] loss: 1.517\n",
      "[1, 12000] loss: 1.472\n",
      "[2,  2000] loss: 1.404\n",
      "[2,  4000] loss: 1.399\n",
      "[2,  6000] loss: 1.357\n",
      "[2,  8000] loss: 1.335\n",
      "[2, 10000] loss: 1.335\n",
      "[2, 12000] loss: 1.277\n",
      "Finished Training\n"
     ]
    }
   ],
   "source": [
    "for epoch in range(2):  # loop over the dataset multiple times\n",
    "\n",
    "    running_loss = 0.0\n",
    "    for i, data in enumerate(trainloader, 0):\n",
    "        # get the inputs; data is a list of [inputs, labels]\n",
    "        inputs, labels = data\n",
    "\n",
    "        # zero the parameter gradients\n",
    "        optimizer.zero_grad()\n",
    "\n",
    "        # forward + backward + optimize\n",
    "        outputs = net(inputs)\n",
    "        loss = criterion(outputs, labels)\n",
    "        loss.backward()\n",
    "        optimizer.step()\n",
    "\n",
    "        # print statistics\n",
    "        running_loss += loss.item()\n",
    "        if i % 2000 == 1999:    # print every 2000 mini-batches\n",
    "            print('[%d, %5d] loss: %.3f' %\n",
    "                  (epoch + 1, i + 1, running_loss / 2000))\n",
    "            running_loss = 0.0\n",
    "\n",
    "print('Finished Training')"
   ]
  },
  {
   "cell_type": "code",
   "execution_count": 8,
   "metadata": {
    "id": "lXn5o9HBtp3T"
   },
   "outputs": [],
   "source": [
    "PATH = './cifar_net.pth'\n",
    "torch.save(net.state_dict(), PATH)"
   ]
  },
  {
   "cell_type": "code",
   "execution_count": 9,
   "metadata": {
    "colab": {
     "base_uri": "https://localhost:8080/",
     "height": 155
    },
    "id": "pHlwN6d3uMS2",
    "outputId": "b0de4703-b18d-442a-c408-ac09cef6e182"
   },
   "outputs": [
    {
     "data": {
      "image/png": "[encoded data removed]",
      "text/plain": [
       "<Figure size 432x288 with 1 Axes>"
      ]
     },
     "metadata": {
      "needs_background": "light",
      "tags": []
     },
     "output_type": "display_data"
    },
    {
     "name": "stdout",
     "output_type": "stream",
     "text": [
      "GroundTruth:    cat  ship  ship plane\n"
     ]
    }
   ],
   "source": [
    "dataiter = iter(testloader)\n",
    "images, labels = dataiter.next()\n",
    "\n",
    "# print images\n",
    "imshow(torchvision.utils.make_grid(images))\n",
    "print('GroundTruth: ', ' '.join('%5s' % classes[labels[j]] for j in range(4)))"
   ]
  },
  {
   "cell_type": "code",
   "execution_count": 10,
   "metadata": {
    "colab": {
     "base_uri": "https://localhost:8080/"
    },
    "id": "ytdMIhq6uf_3",
    "outputId": "e032a571-89fd-4939-805a-acd43eeaa812"
   },
   "outputs": [
    {
     "data": {
      "text/plain": [
       "<All keys matched successfully>"
      ]
     },
     "execution_count": 10,
     "metadata": {
      "tags": []
     },
     "output_type": "execute_result"
    }
   ],
   "source": [
    "net = Net()\n",
    "net.load_state_dict(torch.load(PATH))"
   ]
  },
  {
   "cell_type": "code",
   "execution_count": 11,
   "metadata": {
    "id": "Z80ggbw-upea"
   },
   "outputs": [],
   "source": [
    "outputs = net(images)"
   ]
  },
  {
   "cell_type": "code",
   "execution_count": 12,
   "metadata": {
    "colab": {
     "base_uri": "https://localhost:8080/"
    },
    "id": "mj9_myDPuwN9",
    "outputId": "dc858215-6f1c-4d6e-abbb-e943f280d437"
   },
   "outputs": [
    {
     "name": "stdout",
     "output_type": "stream",
     "text": [
      "Predicted:    cat   car   car plane\n"
     ]
    }
   ],
   "source": [
    "_, predicted = torch.max(outputs, 1)\n",
    "\n",
    "print('Predicted: ', ' '.join('%5s' % classes[predicted[j]]\n",
    "                              for j in range(4)))"
   ]
  },
  {
   "cell_type": "code",
   "execution_count": 13,
   "metadata": {
    "colab": {
     "base_uri": "https://localhost:8080/"
    },
    "id": "OLnwK8Miu3KQ",
    "outputId": "19c15ace-72f7-4cd6-f37d-53edd74ef416"
   },
   "outputs": [
    {
     "name": "stdout",
     "output_type": "stream",
     "text": [
      "Accuracy of the network on the 10000 test images: 55 %\n"
     ]
    }
   ],
   "source": [
    "correct = 0\n",
    "total = 0\n",
    "with torch.no_grad():\n",
    "    for data in testloader:\n",
    "        images, labels = data\n",
    "        outputs = net(images)\n",
    "        _, predicted = torch.max(outputs.data, 1)\n",
    "        total += labels.size(0)\n",
    "        correct += (predicted == labels).sum().item()\n",
    "\n",
    "print('Accuracy of the network on the 10000 test images: %d %%' % (\n",
    "    100 * correct / total))"
   ]
  },
  {
   "cell_type": "code",
   "execution_count": 14,
   "metadata": {
    "colab": {
     "base_uri": "https://localhost:8080/"
    },
    "id": "CcSC7Dc9vOw_",
    "outputId": "bfc5964c-cff6-424b-a140-764ad029f964"
   },
   "outputs": [
    {
     "name": "stdout",
     "output_type": "stream",
     "text": [
      "Accuracy of plane : 62 %\n",
      "Accuracy of   car : 78 %\n",
      "Accuracy of  bird : 34 %\n",
      "Accuracy of   cat : 15 %\n",
      "Accuracy of  deer : 53 %\n",
      "Accuracy of   dog : 54 %\n",
      "Accuracy of  frog : 73 %\n",
      "Accuracy of horse : 63 %\n",
      "Accuracy of  ship : 58 %\n",
      "Accuracy of truck : 59 %\n"
     ]
    }
   ],
   "source": [
    "class_correct = list(0. for i in range(10))\n",
    "class_total = list(0. for i in range(10))\n",
    "with torch.no_grad():\n",
    "    for data in testloader:\n",
    "        images, labels = data\n",
    "        outputs = net(images)\n",
    "        _, predicted = torch.max(outputs, 1)\n",
    "        c = (predicted == labels).squeeze()\n",
    "        for i in range(4):\n",
    "            label = labels[i]\n",
    "            class_correct[label] += c[i].item()\n",
    "            class_total[label] += 1\n",
    "\n",
    "\n",
    "for i in range(10):\n",
    "    print('Accuracy of %5s : %2d %%' % (\n",
    "        classes[i], 100 * class_correct[i] / class_total[i]))"
   ]
  },
  {
   "cell_type": "code",
   "execution_count": 15,
   "metadata": {
    "colab": {
     "base_uri": "https://localhost:8080/"
    },
    "id": "AblbQtMnvcI3",
    "outputId": "c731a0af-6372-4970-d8a0-d3e0426e84bc"
   },
   "outputs": [
    {
     "name": "stdout",
     "output_type": "stream",
     "text": [
      "cuda:0\n"
     ]
    }
   ],
   "source": [
    "device = torch.device(\"cuda:0\" if torch.cuda.is_available() else \"cpu\")\n",
    "\n",
    "# Assuming that we are on a CUDA machine, this should print a CUDA device:\n",
    "\n",
    "print(device)"
   ]
  },
  {
   "cell_type": "code",
   "execution_count": null,
   "metadata": {
    "id": "2ptarh2IvyRy"
   },
   "outputs": [],
   "source": []
  }
 ],
 "metadata": {
  "accelerator": "GPU",
  "colab": {
   "collapsed_sections": [],
   "name": "cifar_pytorch.ipynb",
   "provenance": []
  },
  "kernelspec": {
   "display_name": "Python 3",
   "language": "python",
   "name": "python3"
  },
  "language_info": {
   "codemirror_mode": {
    "name": "ipython",
    "version": 3
   },
   "file_extension": ".py",
   "mimetype": "text/x-python",
   "name": "python",
   "nbconvert_exporter": "python",
   "pygments_lexer": "ipython3",
   "version": "3.7.3"
  },
  "widgets": {
   "application/vnd.jupyter.widget-state+json": {
    "205e8792b9e6471ab4bd4fb2b8501913": {
     "model_module": "@jupyter-widgets/controls",
     "model_name": "HTMLModel",
     "state": {
      "_dom_classes": [],
      "_model_module": "@jupyter-widgets/controls",
      "_model_module_version": "1.5.0",
      "_model_name": "HTMLModel",
      "_view_count": null,
      "_view_module": "@jupyter-widgets/controls",
      "_view_module_version": "1.5.0",
      "_view_name": "HTMLView",
      "description": "",
      "description_tooltip": null,
      "layout": "IPY_MODEL_8d47258cf4ff4380a47025578d0dfd7b",
      "placeholder": "​",
      "style": "IPY_MODEL_98f9cdbc1d5b4037a5bd057743d32624",
      "value": " 170499072/? [00:19&lt;00:00, 8648154.69it/s]"
     }
    },
    "24bdedf4101e4478972e5f4467044ad1": {
     "model_module": "@jupyter-widgets/controls",
     "model_name": "HBoxModel",
     "state": {
      "_dom_classes": [],
      "_model_module": "@jupyter-widgets/controls",
      "_model_module_version": "1.5.0",
      "_model_name": "HBoxModel",
      "_view_count": null,
      "_view_module": "@jupyter-widgets/controls",
      "_view_module_version": "1.5.0",
      "_view_name": "HBoxView",
      "box_style": "",
      "children": [
       "IPY_MODEL_c6abc21c3f9b4ecb8ecaa20b0cd76b68",
       "IPY_MODEL_205e8792b9e6471ab4bd4fb2b8501913"
      ],
      "layout": "IPY_MODEL_4ab9c5161e7a46c8bb62f119b560ed78"
     }
    },
    "4ab9c5161e7a46c8bb62f119b560ed78": {
     "model_module": "@jupyter-widgets/base",
     "model_name": "LayoutModel",
     "state": {
      "_model_module": "@jupyter-widgets/base",
      "_model_module_version": "1.2.0",
      "_model_name": "LayoutModel",
      "_view_count": null,
      "_view_module": "@jupyter-widgets/base",
      "_view_module_version": "1.2.0",
      "_view_name": "LayoutView",
      "align_content": null,
      "align_items": null,
      "align_self": null,
      "border": null,
      "bottom": null,
      "display": null,
      "flex": null,
      "flex_flow": null,
      "grid_area": null,
      "grid_auto_columns": null,
      "grid_auto_flow": null,
      "grid_auto_rows": null,
      "grid_column": null,
      "grid_gap": null,
      "grid_row": null,
      "grid_template_areas": null,
      "grid_template_columns": null,
      "grid_template_rows": null,
      "height": null,
      "justify_content": null,
      "justify_items": null,
      "left": null,
      "margin": null,
      "max_height": null,
      "max_width": null,
      "min_height": null,
      "min_width": null,
      "object_fit": null,
      "object_position": null,
      "order": null,
      "overflow": null,
      "overflow_x": null,
      "overflow_y": null,
      "padding": null,
      "right": null,
      "top": null,
      "visibility": null,
      "width": null
     }
    },
    "8d47258cf4ff4380a47025578d0dfd7b": {
     "model_module": "@jupyter-widgets/base",
     "model_name": "LayoutModel",
     "state": {
      "_model_module": "@jupyter-widgets/base",
      "_model_module_version": "1.2.0",
      "_model_name": "LayoutModel",
      "_view_count": null,
      "_view_module": "@jupyter-widgets/base",
      "_view_module_version": "1.2.0",
      "_view_name": "LayoutView",
      "align_content": null,
      "align_items": null,
      "align_self": null,
      "border": null,
      "bottom": null,
      "display": null,
      "flex": null,
      "flex_flow": null,
      "grid_area": null,
      "grid_auto_columns": null,
      "grid_auto_flow": null,
      "grid_auto_rows": null,
      "grid_column": null,
      "grid_gap": null,
      "grid_row": null,
      "grid_template_areas": null,
      "grid_template_columns": null,
      "grid_template_rows": null,
      "height": null,
      "justify_content": null,
      "justify_items": null,
      "left": null,
      "margin": null,
      "max_height": null,
      "max_width": null,
      "min_height": null,
      "min_width": null,
      "object_fit": null,
      "object_position": null,
      "order": null,
      "overflow": null,
      "overflow_x": null,
      "overflow_y": null,
      "padding": null,
      "right": null,
      "top": null,
      "visibility": null,
      "width": null
     }
    },
    "98f9cdbc1d5b4037a5bd057743d32624": {
     "model_module": "@jupyter-widgets/controls",
     "model_name": "DescriptionStyleModel",
     "state": {
      "_model_module": "@jupyter-widgets/controls",
      "_model_module_version": "1.5.0",
      "_model_name": "DescriptionStyleModel",
      "_view_count": null,
      "_view_module": "@jupyter-widgets/base",
      "_view_module_version": "1.2.0",
      "_view_name": "StyleView",
      "description_width": ""
     }
    },
    "9b1f9b76704a402ea96be468a7f97064": {
     "model_module": "@jupyter-widgets/base",
     "model_name": "LayoutModel",
     "state": {
      "_model_module": "@jupyter-widgets/base",
      "_model_module_version": "1.2.0",
      "_model_name": "LayoutModel",
      "_view_count": null,
      "_view_module": "@jupyter-widgets/base",
      "_view_module_version": "1.2.0",
      "_view_name": "LayoutView",
      "align_content": null,
      "align_items": null,
      "align_self": null,
      "border": null,
      "bottom": null,
      "display": null,
      "flex": null,
      "flex_flow": null,
      "grid_area": null,
      "grid_auto_columns": null,
      "grid_auto_flow": null,
      "grid_auto_rows": null,
      "grid_column": null,
      "grid_gap": null,
      "grid_row": null,
      "grid_template_areas": null,
      "grid_template_columns": null,
      "grid_template_rows": null,
      "height": null,
      "justify_content": null,
      "justify_items": null,
      "left": null,
      "margin": null,
      "max_height": null,
      "max_width": null,
      "min_height": null,
      "min_width": null,
      "object_fit": null,
      "object_position": null,
      "order": null,
      "overflow": null,
      "overflow_x": null,
      "overflow_y": null,
      "padding": null,
      "right": null,
      "top": null,
      "visibility": null,
      "width": null
     }
    },
    "c6abc21c3f9b4ecb8ecaa20b0cd76b68": {
     "model_module": "@jupyter-widgets/controls",
     "model_name": "FloatProgressModel",
     "state": {
      "_dom_classes": [],
      "_model_module": "@jupyter-widgets/controls",
      "_model_module_version": "1.5.0",
      "_model_name": "FloatProgressModel",
      "_view_count": null,
      "_view_module": "@jupyter-widgets/controls",
      "_view_module_version": "1.5.0",
      "_view_name": "ProgressView",
      "bar_style": "success",
      "description": "",
      "description_tooltip": null,
      "layout": "IPY_MODEL_9b1f9b76704a402ea96be468a7f97064",
      "max": 170498071,
      "min": 0,
      "orientation": "horizontal",
      "style": "IPY_MODEL_d444ea765a824912a609cfb0eb566022",
      "value": 170498071
     }
    },
    "d444ea765a824912a609cfb0eb566022": {
     "model_module": "@jupyter-widgets/controls",
     "model_name": "ProgressStyleModel",
     "state": {
      "_model_module": "@jupyter-widgets/controls",
      "_model_module_version": "1.5.0",
      "_model_name": "ProgressStyleModel",
      "_view_count": null,
      "_view_module": "@jupyter-widgets/base",
      "_view_module_version": "1.2.0",
      "_view_name": "StyleView",
      "bar_color": null,
      "description_width": "initial"
     }
    }
   }
  }
 },
 "nbformat": 4,
 "nbformat_minor": 1
}
